{
  "nbformat": 4,
  "nbformat_minor": 0,
  "metadata": {
    "colab": {
      "provenance": [],
      "include_colab_link": true
    },
    "kernelspec": {
      "name": "python3",
      "display_name": "Python 3"
    },
    "language_info": {
      "name": "python"
    }
  },
  "cells": [
    {
      "cell_type": "markdown",
      "metadata": {
        "id": "view-in-github",
        "colab_type": "text"
      },
      "source": [
        "<a href=\"https://colab.research.google.com/github/ikeyur15/Practice_/blob/main/EDA_02.ipynb\" target=\"_parent\"><img src=\"https://colab.research.google.com/assets/colab-badge.svg\" alt=\"Open In Colab\"/></a>"
      ]
    },
    {
      "cell_type": "code",
      "execution_count": null,
      "metadata": {
        "id": "YtmsQe-SEJCR",
        "colab": {
          "base_uri": "https://localhost:8080/"
        },
        "outputId": "990459ff-257f-4c3b-d355-f6f450f21dd9"
      },
      "outputs": [
        {
          "output_type": "stream",
          "name": "stdout",
          "text": [
            "--2022-08-12 03:45:38--  https://raw.githubusercontent.com/Ambatkar/Test_mnist/main/data/Amazon_jobs_dataset%20-%20amazon_jobs_dataset.csv\n",
            "Resolving raw.githubusercontent.com (raw.githubusercontent.com)... 185.199.108.133, 185.199.109.133, 185.199.110.133, ...\n",
            "Connecting to raw.githubusercontent.com (raw.githubusercontent.com)|185.199.108.133|:443... connected.\n",
            "HTTP request sent, awaiting response... 200 OK\n",
            "Length: 10493282 (10M) [text/plain]\n",
            "Saving to: ‘Amazon_jobs_dataset - amazon_jobs_dataset.csv’\n",
            "\n",
            "Amazon_jobs_dataset 100%[===================>]  10.01M  --.-KB/s    in 0.08s   \n",
            "\n",
            "2022-08-12 03:45:39 (133 MB/s) - ‘Amazon_jobs_dataset - amazon_jobs_dataset.csv’ saved [10493282/10493282]\n",
            "\n"
          ]
        }
      ],
      "source": [
        "!wget \"https://raw.githubusercontent.com/Ambatkar/Test_mnist/main/data/Amazon_jobs_dataset%20-%20amazon_jobs_dataset.csv\""
      ]
    },
    {
      "cell_type": "code",
      "source": [
        "fileName = \"Amazon_jobs_dataset - amazon_jobs_dataset.csv\""
      ],
      "metadata": {
        "id": "prj2UPbvl9Ax"
      },
      "execution_count": null,
      "outputs": []
    },
    {
      "cell_type": "code",
      "source": [
        "import csv"
      ],
      "metadata": {
        "id": "YdhZ6gEsEkXq"
      },
      "execution_count": null,
      "outputs": []
    },
    {
      "cell_type": "code",
      "source": [
        "with open(fileName,'r') as f:\n",
        "  data= csv.DictReader(f,skipinitialspace= True)\n",
        "  data = list(data)\n",
        "\n",
        "data[0].keys()"
      ],
      "metadata": {
        "colab": {
          "base_uri": "https://localhost:8080/"
        },
        "id": "CFZ34IqDxJ4e",
        "outputId": "c255a1b4-f3e7-4856-fb8b-9fb55ab00381"
      },
      "execution_count": null,
      "outputs": [
        {
          "output_type": "execute_result",
          "data": {
            "text/plain": [
              "odict_keys(['S.No.', 'Title', 'location', 'Posting_date', 'DESCRIPTION', 'BASIC QUALIFICATIONS', 'PREFERRED QUALIFICATIONS'])"
            ]
          },
          "metadata": {},
          "execution_count": 5
        }
      ]
    },
    {
      "cell_type": "markdown",
      "source": [
        "# HANDS ON DATA 👐"
      ],
      "metadata": {
        "id": "uPjJE5YmlKOm"
      }
    },
    {
      "cell_type": "markdown",
      "source": [
        "## **Job Location**\n",
        "\n",
        "**Problem Statement :**\n",
        "\n",
        "Find number of job openings in Bangalore,IN and in Seattle,US?\n",
        "\n",
        "Print the Number of Job opening in Bangalore and Seattle as Integer value.\n",
        "\n",
        "```\n",
        "Output:\n",
        "\n",
        "CountBangalore CountSeattle\n",
        "```"
      ],
      "metadata": {
        "id": "8iTlIa4ZkzWi"
      }
    },
    {
      "cell_type": "code",
      "source": [
        "k=0\n",
        "m=0\n",
        "# ANSWER HERE\n",
        "for i in data:\n",
        "    x= i['location'].find('Bangalore')\n",
        "    # print(x)\n",
        "    if x==8:\n",
        "      k=k+1\n",
        "for j in data:\n",
        "    l=j['location'].find('Seattle')\n",
        "    # print(x)\n",
        "    if l==8:\n",
        "      m=m+1\n",
        "      \n",
        "print(k)\n",
        "print(m)\n"
      ],
      "metadata": {
        "id": "BOFHgIFMkyXr",
        "colab": {
          "base_uri": "https://localhost:8080/"
        },
        "outputId": "7401a632-ba84-4ce2-e0f0-7ce74914f541"
      },
      "execution_count": null,
      "outputs": [
        {
          "output_type": "stream",
          "name": "stdout",
          "text": [
            "66\n",
            "1856\n"
          ]
        }
      ]
    },
    {
      "cell_type": "markdown",
      "source": [
        "## **Job Computer Vision**\n",
        "\n",
        "\n",
        "**Problem Statement :**\n",
        "\n",
        "What are the total number of job openings related to Computer Vision ?\n",
        "\n",
        "Note:For finding the job related to computer vision check the Job Title column.\n",
        "\n",
        "```\n",
        "Output Format\n",
        "\n",
        "Count\n",
        "\n",
        "```"
      ],
      "metadata": {
        "id": "rL4192EDlVj2"
      }
    },
    {
      "cell_type": "code",
      "source": [
        "# ANSWER HERE\n",
        "cv= 0\n",
        "text = 'Computer Vision'\n",
        "for i in data:\n",
        "    if i['Title']=='':\n",
        "        i['Title']=='none'\n",
        "    if i['Title'].count(text):\n",
        "        cv= cv+1\n",
        "        print(\"Designation : \",i['Title'])\n",
        "\n",
        "print(\"Total jobs related to Computer Vision is\",cv)\n",
        "    "
      ],
      "metadata": {
        "id": "wffpCYaklW_5",
        "colab": {
          "base_uri": "https://localhost:8080/"
        },
        "outputId": "c9d9f68e-2e8b-4d1d-9ee8-0925221d08f8"
      },
      "execution_count": null,
      "outputs": [
        {
          "output_type": "stream",
          "name": "stdout",
          "text": [
            "Designation :  Software Development Engineer - Computer Vision\n",
            "Designation :  Software Development Manager - Computer Vision\n",
            "Designation :  Software Development Engineer - Computer Vision\n",
            "Designation :  Senior Software Development Engineer - Computer Vision\n",
            "Designation :  Senior Software Development Engineer - Computer Vision\n",
            "Designation :  Software Development Manager - Computer Vision\n",
            "Designation :  Computer Vision Applied Scientist\n",
            "Designation :  Software Development Engineer - Computer Vision\n",
            "Designation :  Software Development Engineer - Computer Vision\n",
            "Designation :  Principal Computer Vision Scientist\n",
            "Designation :  Software Development Engineer - Computer Vision Frameworks/Acceleration\n",
            "Designation :  Computer Vision and Deep Learning Research Scientist\n",
            "Designation :  Software Development Engineer - Computer Vision\n",
            "Designation :  Software Development Engineer - Computer Vision\n",
            "Total jobs related to Computer Vision is 14\n"
          ]
        }
      ]
    },
    {
      "cell_type": "markdown",
      "source": [
        "## **Job Canada**\n",
        "\n",
        "It is a dataset including information on amazon job opening around the world from June 2011 to March 2018. This dataset is collected using Selenium and BeautifulSoup by scraping all of the jobs for Amazon job site.\n",
        "Problem Statement :\n",
        "\n",
        "Find the number of job openings in Canada?\n",
        "\n",
        "Print the count as the Integer Value\n",
        "\n",
        "```\n",
        "Output:\n",
        "\n",
        "Count\n",
        "```"
      ],
      "metadata": {
        "id": "9p3CCnzOmIE4"
      }
    },
    {
      "cell_type": "code",
      "source": [
        "# ANSWER HERE\n",
        "# ANSWER HERE\n",
        "'''canada_job_count=0\n",
        "for i in data:\n",
        "    if i['location'] ==\"\":\n",
        "        i['location']=='none'\n",
        "    k=i['location'].split()[0]\n",
        "    if k=='CA,':\n",
        "        canada_job_count=canada_job_count+1\n",
        "#         print(i['location'])\n",
        "\n",
        "print(canada_job_count)'''\n",
        "\n",
        "canada_job_count=0\n",
        "for i in data:\n",
        "    if i['location'] ==\"\":\n",
        "        i['location']=='none'\n",
        "    k=i['location'].split(',')[0]\n",
        "    if k=='CA':\n",
        "        canada_job_count=canada_job_count+1\n",
        "\n",
        "print('Job openings in Canada : ',canada_job_count)"
      ],
      "metadata": {
        "id": "uwG0JazSl5tW",
        "colab": {
          "base_uri": "https://localhost:8080/"
        },
        "outputId": "266353d7-6fd0-4f5e-91c0-248544a90291"
      },
      "execution_count": null,
      "outputs": [
        {
          "output_type": "stream",
          "name": "stdout",
          "text": [
            "Job openings in Canada :  156\n"
          ]
        }
      ]
    },
    {
      "cell_type": "markdown",
      "source": [
        "## **Job Month 2018**\n",
        "\n",
        "Problem Statement :\n",
        "\n",
        "Find the month having most job openings in Year 2018 ?\n",
        "Print the month (Month Name i.e January, February, March) and Number of job opening as Integer Value\n",
        "\n",
        "```\n",
        "Output Format :\n",
        "\n",
        "MonthName Count\n",
        "\n",
        "```"
      ],
      "metadata": {
        "id": "WWpve-n0mntI"
      }
    },
    {
      "cell_type": "code",
      "source": [
        "# ANSWER HERE\n",
        "x,y,z = 0,0,0\n",
        "for i in data:\n",
        "    k= i['Posting_date'].split()[-3]\n",
        "    p= i['Posting_date'].split()[-1]\n",
        "    if p=='2018':\n",
        "        if k=='January':\n",
        "            x=x+1\n",
        "        if k=='February':\n",
        "            y=y+1\n",
        "        if k=='March':\n",
        "            z=z+1\n",
        "            \n",
        "print('January : ',x,'\\nFebruary : ',y,'\\nMarch : ',z)"
      ],
      "metadata": {
        "id": "u_Unmle1mvJl",
        "colab": {
          "base_uri": "https://localhost:8080/"
        },
        "outputId": "9e4d2d4c-f943-4dee-c00f-0ec3270035f3"
      },
      "execution_count": null,
      "outputs": [
        {
          "output_type": "stream",
          "name": "stdout",
          "text": [
            "January :  907 \n",
            "February :  790 \n",
            "March :  13\n"
          ]
        }
      ]
    },
    {
      "cell_type": "markdown",
      "source": [
        "## **Job Degree**\n",
        "\n",
        "Problem Statement :\n",
        "Find the number of job openings are present if applicant have Bachelor degree?\n",
        "Print the count as Integer value\n",
        "\n",
        "**Note : Here we will use the BASIC QUALIFICATIONS feature to find out whether bachelor degree for Job is required or not. Keywords that can be used are 'Bachelor', 'BS' and 'BA'.**\n",
        "\n",
        "```\n",
        "Output:\n",
        "\n",
        "Count\n",
        "```"
      ],
      "metadata": {
        "id": "3IqYOv3um5mb"
      }
    },
    {
      "cell_type": "code",
      "source": [
        "# ANSWER HERE\n",
        "d= {}\n",
        "max = 0\n",
        "l= set()\n",
        "list = ['Bachelor','BS','BA']\n",
        "# print(len(data))\n",
        "for j in range(len(data)):\n",
        "    dt = data[j]['BASIC QUALIFICATIONS']\n",
        "    for k in list:\n",
        "        if k in dt:\n",
        "            l.add(j)\n",
        "print(len(l))"
      ],
      "metadata": {
        "id": "3xbkWbsVnBRO",
        "colab": {
          "base_uri": "https://localhost:8080/"
        },
        "outputId": "ebc19949-bd5f-4cb8-d0b4-63a642f10694"
      },
      "execution_count": null,
      "outputs": [
        {
          "output_type": "stream",
          "name": "stdout",
          "text": [
            "2961\n"
          ]
        }
      ]
    },
    {
      "cell_type": "markdown",
      "source": [
        "## **Job Java**\n",
        "**Problem Statement :**\n",
        "\n",
        "Find the country does Amazon need the most number of Java Developer?\n",
        "Print the Country(Country Shortcut as given in Dataset) and number of job opening as integer value\n",
        "\n",
        "```\n",
        "Country NumberofJobs\n",
        "\n",
        "For example : US 40\n",
        "```"
      ],
      "metadata": {
        "id": "M8heMBIQncTg"
      }
    },
    {
      "cell_type": "code",
      "source": [
        "# ANSWER HERE\n",
        "list1=[]\n",
        "for j in range(len(data)): #range(3493)\n",
        "  city = data[j]['location'].split(',')[0]\n",
        "  if city not in list1:\n",
        "    list1.append(city)\n",
        "print(list1)\n",
        "kword=['Java','java']\n",
        "\n",
        "for i in list1:\n",
        "  count=0\n",
        "  for j in range(len(data)):\n",
        "    city = data[j]['location'].split(',')[0] #split value of location and give 0 index value\n",
        "    if city==i:\n",
        "     for k in kword:\n",
        "        da=data[j]['DESCRIPTION']\n",
        "        if k in da:\n",
        "            count+=1\n",
        "  print(i,count)"
      ],
      "metadata": {
        "id": "SQrezQpPngN-"
      },
      "execution_count": null,
      "outputs": []
    }
  ]
}
