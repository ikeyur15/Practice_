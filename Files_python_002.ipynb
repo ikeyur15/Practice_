{
  "nbformat": 4,
  "nbformat_minor": 0,
  "metadata": {
    "colab": {
      "provenance": [],
      "collapsed_sections": [
        "bNdbQ5M3uqUl",
        "cMazeBsBxRSQ",
        "rIGKlO_m9Ix-",
        "FFLw4hos9EFY"
      ],
      "include_colab_link": true
    },
    "kernelspec": {
      "name": "python3",
      "display_name": "Python 3"
    },
    "language_info": {
      "name": "python"
    }
  },
  "cells": [
    {
      "cell_type": "markdown",
      "metadata": {
        "id": "view-in-github",
        "colab_type": "text"
      },
      "source": [
        "<a href=\"https://colab.research.google.com/github/ikeyur15/Practice_/blob/main/Files_python_002.ipynb\" target=\"_parent\"><img src=\"https://colab.research.google.com/assets/colab-badge.svg\" alt=\"Open In Colab\"/></a>"
      ]
    },
    {
      "cell_type": "markdown",
      "source": [
        "# **Working with Files** 📁\n"
      ],
      "metadata": {
        "id": "bNdbQ5M3uqUl"
      }
    },
    {
      "cell_type": "markdown",
      "source": [
        "\n",
        "File Handling\n",
        "The key function for working with files in Python is the open() function.\n",
        "\n",
        "The open() function takes two parameters; filename, and mode.\n",
        "\n",
        "There are four different methods (modes) for opening a file:\n",
        "\n",
        "```\n",
        "open(fileLocation,modeOfAccessingFiles)\n",
        "```\n",
        "\n",
        "* \"r\" - Read - Default value. Opens a file for reading, error if the file does not exist\n",
        "\n",
        "* \"a\" - Append - Opens a file for appending, creates the file if it does not exist\n",
        "\n",
        "* \"w\" - Write - Opens a file for writing, creates the file if it does not exist\n",
        "\n",
        "* \"x\" - Create - Creates the specified file, returns an error if the file exists\n",
        "\n",
        "<hr>\n",
        "\n",
        "* \"t\" - Text - Default value. Text mode\n",
        "\n",
        "* \"b\" - Binary - Binary mode (e.g. images)"
      ],
      "metadata": {
        "id": "u7pgGB6kvRY-"
      }
    },
    {
      "cell_type": "code",
      "execution_count": null,
      "metadata": {
        "id": "wWexYllXs0J8"
      },
      "outputs": [],
      "source": [
        "# Creating a File with Open comand\n",
        "\n",
        "f = open('abc.txt','w')     # Created a object\n",
        "f.write('Hello World\\n')    # Written Text into Object\n",
        "f.close()                   # Closed the Object"
      ]
    },
    {
      "cell_type": "code",
      "source": [
        "# Reading the file \n",
        "\n",
        "f = open('abc.txt','r')     # Created a object\n",
        "print(f.read(3)) \n",
        "f.close()"
      ],
      "metadata": {
        "colab": {
          "base_uri": "https://localhost:8080/"
        },
        "id": "7aGQAOZttRMF",
        "outputId": "c888f4f1-7e91-422f-e0d5-e258ea7ab95a"
      },
      "execution_count": null,
      "outputs": [
        {
          "output_type": "stream",
          "name": "stdout",
          "text": [
            "Hel\n"
          ]
        }
      ]
    },
    {
      "cell_type": "code",
      "source": [
        "f = open('abc.txt','w')     # Created a object\n",
        "[f.write('Hello World\\n') for i in range(5) ]    # Written Text into Object\n",
        "f.close() "
      ],
      "metadata": {
        "id": "k3gfox-EwOQN"
      },
      "execution_count": null,
      "outputs": []
    },
    {
      "cell_type": "code",
      "source": [
        "# Reading the file \n",
        "\n",
        "f = open('abc.txt','r')     # Created a object\n",
        "print(f.readlines())\n",
        "f.close()"
      ],
      "metadata": {
        "colab": {
          "base_uri": "https://localhost:8080/"
        },
        "id": "l4JMbSKTxJKu",
        "outputId": "f6c7ca99-b58b-4926-8f86-7ad4a119047f"
      },
      "execution_count": null,
      "outputs": [
        {
          "output_type": "stream",
          "name": "stdout",
          "text": [
            "['Hello World\\n', 'Hello World\\n', 'Hello World\\n', 'Hello World\\n', 'Hello World\\n']\n"
          ]
        }
      ]
    },
    {
      "cell_type": "markdown",
      "source": [
        "# **Working with OS Module commands** 🌄"
      ],
      "metadata": {
        "id": "cMazeBsBxRSQ"
      }
    },
    {
      "cell_type": "code",
      "source": [
        "import os # Internal Library to working Dict"
      ],
      "metadata": {
        "id": "17Mfcu2cxU4L"
      },
      "execution_count": null,
      "outputs": []
    },
    {
      "cell_type": "markdown",
      "source": [
        "## OS Basic Functions "
      ],
      "metadata": {
        "id": "rIGKlO_m9Ix-"
      }
    },
    {
      "cell_type": "code",
      "source": [
        "os.listdir('.')           # Example of accessing os functions"
      ],
      "metadata": {
        "colab": {
          "base_uri": "https://localhost:8080/"
        },
        "id": "OVNl5lRLxYNM",
        "outputId": "2ab2a897-7a32-4941-8025-34694d0999ff"
      },
      "execution_count": null,
      "outputs": [
        {
          "output_type": "execute_result",
          "data": {
            "text/plain": [
              "['srv',\n",
              " 'proc',\n",
              " 'home',\n",
              " 'dev',\n",
              " 'boot',\n",
              " 'bin',\n",
              " 'usr',\n",
              " 'mnt',\n",
              " 'lib',\n",
              " 'var',\n",
              " 'run',\n",
              " 'lib64',\n",
              " 'opt',\n",
              " 'tmp',\n",
              " 'sys',\n",
              " 'media',\n",
              " 'etc',\n",
              " 'sbin',\n",
              " 'root',\n",
              " 'content',\n",
              " '.dockerenv',\n",
              " 'datalab',\n",
              " 'tools',\n",
              " 'tensorflow-1.15.2',\n",
              " 'python-apt',\n",
              " 'lib32']"
            ]
          },
          "metadata": {},
          "execution_count": 20
        }
      ]
    },
    {
      "cell_type": "code",
      "source": [
        "os.getcwd()               # Example of accessing os functions"
      ],
      "metadata": {
        "colab": {
          "base_uri": "https://localhost:8080/",
          "height": 35
        },
        "id": "oPl4t7aMxcg0",
        "outputId": "71c78be6-b59f-471f-e1e6-c6b817884e6c"
      },
      "execution_count": null,
      "outputs": [
        {
          "output_type": "execute_result",
          "data": {
            "text/plain": [
              "'/content'"
            ],
            "application/vnd.google.colaboratory.intrinsic+json": {
              "type": "string"
            }
          },
          "metadata": {},
          "execution_count": 22
        }
      ]
    },
    {
      "cell_type": "code",
      "source": [
        "os.chdir('./content')                # to change working Dir"
      ],
      "metadata": {
        "id": "B2ShNj3Z9RGr"
      },
      "execution_count": null,
      "outputs": []
    },
    {
      "cell_type": "code",
      "source": [
        "os.mkdir('New Folder')    # To make new Dir"
      ],
      "metadata": {
        "id": "NYWFZa6Y9lSW"
      },
      "execution_count": null,
      "outputs": []
    },
    {
      "cell_type": "code",
      "source": [
        "os.rmdir('New Folder')    # To remove whole Dir"
      ],
      "metadata": {
        "id": "3W60BdxD9h6p"
      },
      "execution_count": null,
      "outputs": []
    },
    {
      "cell_type": "code",
      "source": [
        "os.remove('abc.txt')      # To remove File"
      ],
      "metadata": {
        "id": "gy1b6AFf-FEK"
      },
      "execution_count": null,
      "outputs": []
    },
    {
      "cell_type": "markdown",
      "source": [
        "## OS Walk\n",
        "\n",
        "Python method walk() generates the file names in a directory tree by walking the tree either top-down or bottom-up."
      ],
      "metadata": {
        "id": "FFLw4hos9EFY"
      }
    },
    {
      "cell_type": "code",
      "source": [
        "for root, dirs, files in os.walk(\".\", topdown=False):\n",
        "  print(len(files))\n",
        "  for name in files:\n",
        "      print(os.path.join(root, name))\n",
        "  for name in dirs:\n",
        "    print(os.path.join(root, name))"
      ],
      "metadata": {
        "colab": {
          "base_uri": "https://localhost:8080/"
        },
        "id": "uV9YeZbD8x3p",
        "outputId": "529ed27a-faf2-4e24-af9e-a1f3b7937b91"
      },
      "execution_count": null,
      "outputs": [
        {
          "output_type": "stream",
          "name": "stdout",
          "text": [
            "6\n",
            "./.config/logs/2022.07.28/13.39.50.360650.log\n",
            "./.config/logs/2022.07.28/13.39.49.666021.log\n",
            "./.config/logs/2022.07.28/13.38.43.753460.log\n",
            "./.config/logs/2022.07.28/13.39.23.304837.log\n",
            "./.config/logs/2022.07.28/13.39.04.909036.log\n",
            "./.config/logs/2022.07.28/13.39.30.781967.log\n",
            "0\n",
            "./.config/logs/2022.07.28\n",
            "1\n",
            "./.config/configurations/config_default\n",
            "6\n",
            "./.config/active_config\n",
            "./.config/.last_update_check.json\n",
            "./.config/.last_opt_in_prompt.yaml\n",
            "./.config/gce\n",
            "./.config/.last_survey_prompt.yaml\n",
            "./.config/config_sentinel\n",
            "./.config/logs\n",
            "./.config/configurations\n",
            "6\n",
            "./sample_data/README.md\n",
            "./sample_data/anscombe.json\n",
            "./sample_data/mnist_train_small.csv\n",
            "./sample_data/california_housing_train.csv\n",
            "./sample_data/california_housing_test.csv\n",
            "./sample_data/mnist_test.csv\n",
            "0\n",
            "./.config\n",
            "./sample_data\n"
          ]
        }
      ]
    },
    {
      "cell_type": "markdown",
      "source": [
        "# **Getting hands on the Data** 👐"
      ],
      "metadata": {
        "id": "8jlqahK5-sK1"
      }
    },
    {
      "cell_type": "markdown",
      "source": [
        "**California Housing**\n",
        "\n",
        "This is a dataset obtained from the StatLib repository. Here is the included description:\n",
        "\n",
        "S&P Letters Data\n",
        "We collected information on the variables using all the block groups in California from the 1990 Cens us. In this sample a block group on average includes 1425.5 individuals living in a geographically co mpact area. Naturally, the geographical area included varies inversely with the population density. W e computed distances among the centroids of each block group as measured in latitude and longitude. W e excluded all the block groups reporting zero entries for the independent and dependent variables. T he final data contained 20,640 observations on 9 variables. The dependent variable is ln(median house value).\n",
        "\n",
        "```\n",
        "                               Bols    tols\n",
        "INTERCEPT\t\t       11.4939 275.7518\n",
        "MEDIAN INCOME\t       0.4790  45.7768\n",
        "MEDIAN INCOME2\t       -0.0166 -9.4841\n",
        "MEDIAN INCOME3\t       -0.0002 -1.9157\n",
        "ln(MEDIAN AGE)\t       0.1570  33.6123\n",
        "ln(TOTAL ROOMS/ POPULATION)    -0.8582 -56.1280\n",
        "ln(BEDROOMS/ POPULATION)       0.8043  38.0685\n",
        "ln(POPULATION/ HOUSEHOLDS)     -0.4077 -20.8762\n",
        "ln(HOUSEHOLDS)\t       0.0477  13.0792\n",
        "```"
      ],
      "metadata": {
        "id": "4LsOAwIOC7Rv"
      }
    },
    {
      "cell_type": "code",
      "source": [
        "!wget \"https://raw.githubusercontent.com/amansingh9097/California-housing-price-prediction/master/datasets/housing/housing.csv\""
      ],
      "metadata": {
        "colab": {
          "base_uri": "https://localhost:8080/"
        },
        "id": "wNyglzMLBhmX",
        "outputId": "e3328ca1-7605-413d-8cc4-0d590361b5e9"
      },
      "execution_count": null,
      "outputs": [
        {
          "output_type": "stream",
          "name": "stdout",
          "text": [
            "--2022-08-02 10:25:24--  https://raw.githubusercontent.com/amansingh9097/California-housing-price-prediction/master/datasets/housing/housing.csv\n",
            "Resolving raw.githubusercontent.com (raw.githubusercontent.com)... 185.199.108.133, 185.199.109.133, 185.199.111.133, ...\n",
            "Connecting to raw.githubusercontent.com (raw.githubusercontent.com)|185.199.108.133|:443... connected.\n",
            "HTTP request sent, awaiting response... 200 OK\n",
            "Length: 1444170 (1.4M) [text/plain]\n",
            "Saving to: ‘housing.csv’\n",
            "\n",
            "housing.csv         100%[===================>]   1.38M  --.-KB/s    in 0.06s   \n",
            "\n",
            "2022-08-02 10:25:24 (24.9 MB/s) - ‘housing.csv’ saved [1444170/1444170]\n",
            "\n"
          ]
        }
      ]
    },
    {
      "cell_type": "code",
      "source": [
        "import csv"
      ],
      "metadata": {
        "id": "NXfbsh9UMT9d"
      },
      "execution_count": null,
      "outputs": []
    },
    {
      "cell_type": "code",
      "source": [
        "with open('housing.csv','r') as f:\n",
        "  data = csv.DictReader(f, skipinitialspace= True)\n",
        "  data = list(data)"
      ],
      "metadata": {
        "id": "09sl5XH4-vIY"
      },
      "execution_count": null,
      "outputs": []
    },
    {
      "cell_type": "code",
      "source": [
        "type(data)          # Getting the type of Data"
      ],
      "metadata": {
        "colab": {
          "base_uri": "https://localhost:8080/"
        },
        "id": "TpgkDUSb_VSY",
        "outputId": "3022cb2e-6428-4b5c-e9e6-bf39134fe0f3"
      },
      "execution_count": null,
      "outputs": [
        {
          "output_type": "execute_result",
          "data": {
            "text/plain": [
              "list"
            ]
          },
          "metadata": {},
          "execution_count": 8
        }
      ]
    },
    {
      "cell_type": "code",
      "source": [
        "type(data[0])       # Getting the type of Data at [0]"
      ],
      "metadata": {
        "colab": {
          "base_uri": "https://localhost:8080/"
        },
        "id": "LyokjIYQ_WEg",
        "outputId": "28a899a2-6459-4cc6-a990-b64139cadb03"
      },
      "execution_count": null,
      "outputs": [
        {
          "output_type": "execute_result",
          "data": {
            "text/plain": [
              "collections.OrderedDict"
            ]
          },
          "metadata": {},
          "execution_count": 9
        }
      ]
    },
    {
      "cell_type": "code",
      "source": [
        "len(data)           # Getting the Lenght of the Data"
      ],
      "metadata": {
        "colab": {
          "base_uri": "https://localhost:8080/"
        },
        "id": "FAMDHX3OBnMu",
        "outputId": "c3142c27-0016-408f-cc5a-0b21b8a49249"
      },
      "execution_count": null,
      "outputs": [
        {
          "output_type": "execute_result",
          "data": {
            "text/plain": [
              "20640"
            ]
          },
          "metadata": {},
          "execution_count": 49
        }
      ]
    },
    {
      "cell_type": "code",
      "source": [
        "data[0].keys()      # Getting the Columns names"
      ],
      "metadata": {
        "colab": {
          "base_uri": "https://localhost:8080/"
        },
        "id": "5KibTOCr_5w4",
        "outputId": "17054f66-37a2-4b67-839b-ab95d43533d5"
      },
      "execution_count": null,
      "outputs": [
        {
          "output_type": "execute_result",
          "data": {
            "text/plain": [
              "odict_keys(['longitude', 'latitude', 'housing_median_age', 'total_rooms', 'total_bedrooms', 'population', 'households', 'median_income', 'median_house_value', 'ocean_proximity'])"
            ]
          },
          "metadata": {},
          "execution_count": 50
        }
      ]
    },
    {
      "cell_type": "code",
      "source": [
        "for i in data[:10]:\n",
        "  print(i['total_rooms'])"
      ],
      "metadata": {
        "colab": {
          "base_uri": "https://localhost:8080/"
        },
        "id": "NUZj3v7V_oA5",
        "outputId": "b2d985cf-fca6-4f3f-8785-067e8def68b5"
      },
      "execution_count": null,
      "outputs": [
        {
          "output_type": "stream",
          "name": "stdout",
          "text": [
            "880.0\n",
            "7099.0\n",
            "1467.0\n",
            "1274.0\n",
            "1627.0\n",
            "919.0\n",
            "2535.0\n",
            "3104.0\n",
            "2555.0\n",
            "3549.0\n"
          ]
        }
      ]
    },
    {
      "cell_type": "markdown",
      "source": [
        "# **IN CLASS TASK** 💻"
      ],
      "metadata": {
        "id": "lAfB8HZ6Dx0I"
      }
    },
    {
      "cell_type": "code",
      "source": [
        "# TASK 1 - Create a File named 'test.txt' and Write 5 Lines on Data Science Trends\n",
        "with open ('test.txt','w') as f:\n",
        "  [f.write('Machines are learning..\\n') for i in range(5) ] \n",
        "   "
      ],
      "metadata": {
        "id": "Q8w_nXgmEqNf"
      },
      "execution_count": null,
      "outputs": []
    },
    {
      "cell_type": "code",
      "source": [
        "# TASK 2 - Read only first 20 Chars in from the created file 'test.txt'\n",
        "with open ('test.txt','r') as f:\n",
        "  print(f.read(20))\n",
        "\n",
        "# f= open('test.txt','r')\n",
        "# f.read(20)\n"
      ],
      "metadata": {
        "id": "SCcQWd0jEqGH",
        "colab": {
          "base_uri": "https://localhost:8080/"
        },
        "outputId": "3e154076-c39e-40fa-b9d3-291419f642d7"
      },
      "execution_count": null,
      "outputs": [
        {
          "output_type": "stream",
          "name": "stdout",
          "text": [
            "Machines are learnin\n"
          ]
        }
      ]
    },
    {
      "cell_type": "code",
      "source": [
        "# TASK 3 - Append more Data into the create 'test.txt' related to the weather conditions\n",
        "with open ('test.txt','a') as f:\n",
        "  f.write(\"ML AI ML\")"
      ],
      "metadata": {
        "id": "rMGai6SbEp96"
      },
      "execution_count": null,
      "outputs": []
    },
    {
      "cell_type": "code",
      "source": [
        "# TASK 4 - to get Highest Priced House\n",
        "# and print the longitude and latitude of the house\n",
        "dt[['longitude','latitude']].groupby(dt['median_house_value']).max()\n"
      ],
      "metadata": {
        "id": "R-knCCof_4v5"
      },
      "execution_count": null,
      "outputs": []
    },
    {
      "cell_type": "code",
      "source": [
        "# TASK 5 - Find Types ocean_proximity values\n",
        "dt['ocean_proximity'].dtype"
      ],
      "metadata": {
        "id": "FVBlIJGZAYyC"
      },
      "execution_count": null,
      "outputs": []
    },
    {
      "cell_type": "code",
      "source": [
        "# TASK 6 - Count all the ocean_proximity values and print them\n",
        "dt['ocean_proximity'].groupby(dt['ocean_proximity']).count()"
      ],
      "metadata": {
        "id": "Tk0YxJhEAZGO"
      },
      "execution_count": null,
      "outputs": []
    },
    {
      "cell_type": "code",
      "source": [
        "# TASK 7 - Count total rooms and Bedroom in California \n",
        "# and count total Person per Bedroom \n",
        "dt[['total_rooms','total_bedrooms']].sum()"
      ],
      "metadata": {
        "id": "i-DU34uEAZiG"
      },
      "execution_count": null,
      "outputs": []
    },
    {
      "cell_type": "code",
      "source": [
        "import os \n",
        "os.mkdir('Assignment')\n"
      ],
      "metadata": {
        "id": "TTE7jAqUPUGA"
      },
      "execution_count": null,
      "outputs": []
    },
    {
      "cell_type": "code",
      "source": [
        "from time import time,ctime"
      ],
      "metadata": {
        "id": "CkQ_27oRRWIU"
      },
      "execution_count": null,
      "outputs": []
    },
    {
      "cell_type": "code",
      "source": [
        "os.chdir('/content/Assignment')"
      ],
      "metadata": {
        "id": "-CAW17VvPjJz"
      },
      "execution_count": null,
      "outputs": []
    },
    {
      "cell_type": "code",
      "source": [
        "os.getcwd()"
      ],
      "metadata": {
        "colab": {
          "base_uri": "https://localhost:8080/",
          "height": 35
        },
        "id": "gK_6LCFWP_is",
        "outputId": "3f2f1430-adad-4496-d506-1e3ba26aae42"
      },
      "execution_count": null,
      "outputs": [
        {
          "output_type": "execute_result",
          "data": {
            "text/plain": [
              "'/content/Assignment'"
            ],
            "application/vnd.google.colaboratory.intrinsic+json": {
              "type": "string"
            }
          },
          "metadata": {},
          "execution_count": 40
        }
      ]
    },
    {
      "cell_type": "code",
      "source": [
        "import requests\n",
        "\n",
        "try:\n",
        "    url = 'https://raw.githubusercontent.com/Ambatkar/Test_mnist/main/data/dummy.txt'\n",
        "    r = requests.get(url)\n",
        "    print(r.text)\n",
        "except:\n",
        "    print(\"Invalid URL or some error occured while making the GET request to the specified URL\")\n",
        "\n",
        "print(type(r.text))"
      ],
      "metadata": {
        "colab": {
          "base_uri": "https://localhost:8080/"
        },
        "id": "6fOb4-26U8DD",
        "outputId": "5dde535c-d7a7-4ab3-ecb0-5d0c7f4c658d"
      },
      "execution_count": null,
      "outputs": [
        {
          "output_type": "stream",
          "name": "stdout",
          "text": [
            "It is a long established fact that a reader will be distracted by the readable content of a page when looking at its layout. The point of using Lorem Ipsum is that it has a more-or-less normal distribution of letters, as opposed to using 'Content here, content here', making it look like readable English. Many desktop publishing packages and web page editors now use Lorem Ipsum as their default model text, and a search for 'lorem ipsum' will uncover many web sites still in their infancy. Various versions have evolved over the years, sometimes by accident, sometimes on purpose (injected humour and the like).\n",
            "\n",
            "\n",
            "<class 'str'>\n"
          ]
        }
      ]
    },
    {
      "cell_type": "code",
      "source": [
        "with open(f\"keyur {ctime()}.txt\",\"a\")as f:\n",
        "  f.write(r.text)"
      ],
      "metadata": {
        "id": "I5yThltSQ5R5"
      },
      "execution_count": null,
      "outputs": []
    }
  ]
}