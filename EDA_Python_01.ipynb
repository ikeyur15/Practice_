{
  "nbformat": 4,
  "nbformat_minor": 0,
  "metadata": {
    "colab": {
      "provenance": [],
      "collapsed_sections": [],
      "include_colab_link": true
    },
    "kernelspec": {
      "name": "python3",
      "display_name": "Python 3"
    },
    "language_info": {
      "name": "python"
    }
  },
  "cells": [
    {
      "cell_type": "markdown",
      "metadata": {
        "id": "view-in-github",
        "colab_type": "text"
      },
      "source": [
        "<a href=\"https://colab.research.google.com/github/ikeyur15/Practice_/blob/main/EDA_Python_01.ipynb\" target=\"_parent\"><img src=\"https://colab.research.google.com/assets/colab-badge.svg\" alt=\"Open In Colab\"/></a>"
      ]
    },
    {
      "cell_type": "markdown",
      "source": [
        "# **Exploratory Data Analysis** - exercise submission notebook\n",
        "\n",
        "## Submission 1 **PYTHON**"
      ],
      "metadata": {
        "id": "B6yf3Zfv9sPf"
      }
    },
    {
      "cell_type": "markdown",
      "source": [
        "# **Instructions** \n",
        "This is a submission notebook, your term evaluation is based on the submission of the notebook.\n",
        "\n",
        "* Don't Copy others code\n",
        "* Try to implement all the topic that we have covered in the lectures \n",
        "* Each Problem has 2 points, their are negetive marking for plagiarism\n",
        "* You can refer to the documentation if using any library\n",
        "* **Use proper commenting to explain your code**\n",
        "\n",
        "Happy Coding!"
      ],
      "metadata": {
        "id": "Ldii7DRy8MDs"
      }
    },
    {
      "cell_type": "markdown",
      "source": [
        "# Exercise 1 🙆"
      ],
      "metadata": {
        "id": "5e6_PAK3FQeX"
      }
    },
    {
      "cell_type": "code",
      "source": [
        "# Make a dictionary with atleast 5 countries and their capitals.\n",
        "dict={\"india\":\"delhi\", \"pakistan\":\"islamabad\", \"bangladesh\":\"dhaka\", \"uk\":\"london\", \"canada\":\"ottawa\"}\n",
        "dict"
      ],
      "metadata": {
        "id": "DCZdsID0FV1b",
        "colab": {
          "base_uri": "https://localhost:8080/"
        },
        "outputId": "72f0fb95-02ad-47ce-dcab-6508c7292afd"
      },
      "execution_count": null,
      "outputs": [
        {
          "output_type": "execute_result",
          "data": {
            "text/plain": [
              "{'bangladesh': 'dhaka',\n",
              " 'canada': 'ottawa',\n",
              " 'india': 'delhi',\n",
              " 'pakistan': 'islamabad',\n",
              " 'uk': 'london'}"
            ]
          },
          "metadata": {},
          "execution_count": 2
        }
      ]
    },
    {
      "cell_type": "code",
      "source": [
        "# Make a program to check whether a number is divisible by 7 or not.\n",
        "a= int(input(\"enter num : \"))\n",
        "if a%7==0:\n",
        "  print(\"devisible \")\n",
        "else:\n",
        "  print(\"not devisible\")"
      ],
      "metadata": {
        "id": "5REwL8lmFurL",
        "colab": {
          "base_uri": "https://localhost:8080/"
        },
        "outputId": "2966c52e-500f-4dac-bb9d-1754a0d16f7b"
      },
      "execution_count": null,
      "outputs": [
        {
          "output_type": "stream",
          "name": "stdout",
          "text": [
            "enter num : 14\n",
            "devisible \n"
          ]
        }
      ]
    },
    {
      "cell_type": "code",
      "source": [
        "# Make a program to convert Celsius and Fahrenheit. # use input function to take user input.\n",
        "c= float(input(\"Enter Celcius: \"))\n",
        "f= c*9/5 +32\n",
        "print(f)"
      ],
      "metadata": {
        "id": "XAngM61MGECL",
        "colab": {
          "base_uri": "https://localhost:8080/"
        },
        "outputId": "84620280-a437-4ec5-a719-9db2d77174d4"
      },
      "execution_count": null,
      "outputs": [
        {
          "output_type": "stream",
          "name": "stdout",
          "text": [
            "Enter Celcius: 34\n",
            "93.2\n"
          ]
        }
      ]
    },
    {
      "cell_type": "code",
      "source": [
        "# Make a program that checks the string contains this list of words \n",
        "# Delhi, Ahmedabad, Mumbai, India, Students, Python\n",
        "list= ['Delhi', 'Ahmedabad', 'Mumbai', 'India', 'Students', 'Python']\n",
        "check = input(\"Enter String to check: \")\n",
        "\n",
        "if check in list:\n",
        "  print(\"YES ! \")\n",
        "else:\n",
        "  print('NO')"
      ],
      "metadata": {
        "id": "-y2318C-Gcbc",
        "colab": {
          "base_uri": "https://localhost:8080/"
        },
        "outputId": "147f865f-2c8e-4902-debb-1a4359bcdd03"
      },
      "execution_count": null,
      "outputs": [
        {
          "output_type": "stream",
          "name": "stdout",
          "text": [
            "Enter String to check: Delhi\n",
            "YES ! \n"
          ]
        }
      ]
    },
    {
      "cell_type": "code",
      "source": [
        "# Explore time library in python and get current time\n",
        "import time\n",
        "\n",
        "time.localtime()"
      ],
      "metadata": {
        "id": "OzVEOdZvHAbL",
        "colab": {
          "base_uri": "https://localhost:8080/"
        },
        "outputId": "38d95df9-1052-4438-bda8-65fbc05a1989"
      },
      "execution_count": null,
      "outputs": [
        {
          "output_type": "execute_result",
          "data": {
            "text/plain": [
              "time.struct_time(tm_year=2022, tm_mon=8, tm_mday=1, tm_hour=11, tm_min=38, tm_sec=11, tm_wday=0, tm_yday=213, tm_isdst=0)"
            ]
          },
          "metadata": {},
          "execution_count": 14
        }
      ]
    },
    {
      "cell_type": "markdown",
      "source": [
        "# Exercise 2 🙆"
      ],
      "metadata": {
        "id": "j2Rib3E49jck"
      }
    },
    {
      "cell_type": "code",
      "source": [
        "# Make a script which prints prime numbers between 1 to 1000\n",
        "\n",
        "prime = [2]\n",
        "\n",
        "for i in range(2,1001):\n",
        "  for j in prime:\n",
        "    flg=0\n",
        "    if i%j == 0:\n",
        "      flg=1\n",
        "      break\n",
        "  if flg==0:\n",
        "    prime.append(i)\n",
        "\n",
        "print(prime)"
      ],
      "metadata": {
        "id": "ziZEa_OIA_cI",
        "colab": {
          "base_uri": "https://localhost:8080/"
        },
        "outputId": "22016838-b3e3-4422-af5f-ad2147f39f9b"
      },
      "execution_count": null,
      "outputs": [
        {
          "output_type": "stream",
          "name": "stdout",
          "text": [
            "[2, 3, 5, 7, 11, 13, 17, 19, 23, 29, 31, 37, 41, 43, 47, 53, 59, 61, 67, 71, 73, 79, 83, 89, 97, 101, 103, 107, 109, 113, 127, 131, 137, 139, 149, 151, 157, 163, 167, 173, 179, 181, 191, 193, 197, 199, 211, 223, 227, 229, 233, 239, 241, 251, 257, 263, 269, 271, 277, 281, 283, 293, 307, 311, 313, 317, 331, 337, 347, 349, 353, 359, 367, 373, 379, 383, 389, 397, 401, 409, 419, 421, 431, 433, 439, 443, 449, 457, 461, 463, 467, 479, 487, 491, 499, 503, 509, 521, 523, 541, 547, 557, 563, 569, 571, 577, 587, 593, 599, 601, 607, 613, 617, 619, 631, 641, 643, 647, 653, 659, 661, 673, 677, 683, 691, 701, 709, 719, 727, 733, 739, 743, 751, 757, 761, 769, 773, 787, 797, 809, 811, 821, 823, 827, 829, 839, 853, 857, 859, 863, 877, 881, 883, 887, 907, 911, 919, 929, 937, 941, 947, 953, 967, 971, 977, 983, 991, 997]\n"
          ]
        }
      ]
    },
    {
      "cell_type": "code",
      "source": [
        "# Make a script which check palindrome number using loop\n",
        "\n",
        "num=int(input(\"Enter a number:\"))\n",
        "temp=num\n",
        "rev=0\n",
        "\n",
        "while(num>0):\n",
        "    dig=num%10\n",
        "    rev=rev*10+dig\n",
        "    num=num//10\n",
        "if(temp==rev):\n",
        "    print(\"The number is palindrome!\")\n",
        "else:\n",
        "    print(\"Not a palindrome!\")"
      ],
      "metadata": {
        "id": "wPr1BBJABCiM",
        "colab": {
          "base_uri": "https://localhost:8080/"
        },
        "outputId": "396cae09-06c0-4f7c-9c27-d19bd78ccfee"
      },
      "execution_count": null,
      "outputs": [
        {
          "output_type": "stream",
          "name": "stdout",
          "text": [
            "Enter a number:234432\n",
            "The number is palindrome!\n"
          ]
        }
      ]
    },
    {
      "cell_type": "code",
      "source": [
        "# make a script which prints first 15 Fibonacci Numbers\n",
        "f0 ,f1 = 0,1\n",
        "c= 0\n",
        "num= 15\n",
        "\n",
        "while num<f0:\n",
        "  print(f0)\n",
        "else:\n",
        "  while c<num:\n",
        "    print(f0)\n",
        "    n=f0+f1\n",
        "    f0=f1\n",
        "    f1=n\n",
        "    c+=1"
      ],
      "metadata": {
        "id": "9N6lVnIrBz-z",
        "colab": {
          "base_uri": "https://localhost:8080/"
        },
        "outputId": "4e196cad-acd8-4cec-b091-a91bd72da7bd"
      },
      "execution_count": null,
      "outputs": [
        {
          "output_type": "stream",
          "name": "stdout",
          "text": [
            "0\n",
            "1\n",
            "1\n",
            "2\n",
            "3\n",
            "5\n",
            "8\n",
            "13\n",
            "21\n",
            "34\n",
            "55\n",
            "89\n",
            "144\n",
            "233\n",
            "377\n"
          ]
        }
      ]
    },
    {
      "cell_type": "code",
      "source": [
        "# Print the following pattern for the given N number of rows.\n",
        "# Pattern for N = 3\n",
        "\"\"\"\n",
        "*\n",
        "**\n",
        "***\n",
        "\"\"\"\n",
        "for i in range(4):\n",
        "  for j in range(i):\n",
        "    print(\"*\",end='')\n",
        "  print(\"\")"
      ],
      "metadata": {
        "id": "ghbbiSaxDVBp",
        "colab": {
          "base_uri": "https://localhost:8080/"
        },
        "outputId": "d4eb0bb5-f5d0-4b98-8483-7c98b6217309"
      },
      "execution_count": null,
      "outputs": [
        {
          "output_type": "stream",
          "name": "stdout",
          "text": [
            "\n",
            "*\n",
            "**\n",
            "***\n"
          ]
        }
      ]
    },
    {
      "cell_type": "code",
      "source": [
        "# Print the following pattern for the given N number of rows.\n",
        "# Pattern for N = 3\n",
        "\"\"\"\n",
        "A\n",
        "BB\n",
        "CCC\n",
        "\"\"\"\n",
        "import string \n",
        "string1= string.ascii_letters\n",
        "\n",
        "for i in range(3):\n",
        "  for j in range(i+1):\n",
        "    print(string1[i],end=\"\")\n",
        "  print()\n"
      ],
      "metadata": {
        "id": "1joSZh6QDVg2",
        "colab": {
          "base_uri": "https://localhost:8080/"
        },
        "outputId": "ce8c2003-c76e-4c06-ac6a-a5d246ef8f0c"
      },
      "execution_count": null,
      "outputs": [
        {
          "output_type": "stream",
          "name": "stdout",
          "text": [
            "a\n",
            "bb\n",
            "ccc\n"
          ]
        }
      ]
    },
    {
      "cell_type": "code",
      "source": [
        "# Print the following pattern for the given N number of rows.\n",
        "# Pattern for N = 4\n",
        "\"\"\"\n",
        "4444\n",
        "3333\n",
        "2222\n",
        "1111\n",
        "\"\"\"\n",
        "for i in range(4,0,-1):\n",
        "  for j in range(4,0,-1):\n",
        "    print(i,end=\"\")\n",
        "  print()"
      ],
      "metadata": {
        "id": "h6oktnGqDVNh",
        "colab": {
          "base_uri": "https://localhost:8080/"
        },
        "outputId": "4aa48f7c-2e1d-404a-8891-e8d33e376c69"
      },
      "execution_count": null,
      "outputs": [
        {
          "output_type": "stream",
          "name": "stdout",
          "text": [
            "4444\n",
            "3333\n",
            "2222\n",
            "1111\n"
          ]
        }
      ]
    },
    {
      "cell_type": "code",
      "source": [
        "# Make a script to which gives output like "
      ],
      "metadata": {
        "id": "Yex6V6JICUYz"
      },
      "execution_count": null,
      "outputs": []
    },
    {
      "cell_type": "markdown",
      "source": [
        "![0000000000003725.png](data:image/png;base64,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)"
      ],
      "metadata": {
        "id": "tg_TwERYDBl8"
      }
    },
    {
      "cell_type": "code",
      "source": [
        "# Print the following pattern for the given number of rows.\n",
        "# Note: N is always odd.\n",
        "# Pattern for N = 5\n",
        "for i in range(3):\n",
        "    for j in range(3,i,-1):\n",
        "        print(\" \",end=\"\")\n",
        "    for k in range(i):\n",
        "        print(\"*\",end=\"\")\n",
        "    for j in range(i-1):\n",
        "        print('*',end=\"\")\n",
        "    print()\n",
        "for i in range(3):\n",
        "    for k in range(i):\n",
        "        print(f\" \",end=\"\")\n",
        "    for j in range(2,i,-1):\n",
        "        print('*',end=\"\")\n",
        "    for j in range(3,i,-1):\n",
        "        print(\"*\",end=\"\")\n",
        "    print()"
      ],
      "metadata": {
        "id": "E0B9j4jADA-7",
        "colab": {
          "base_uri": "https://localhost:8080/"
        },
        "outputId": "7fb2a715-b5a7-4f1a-a925-ead04b3212ea"
      },
      "execution_count": null,
      "outputs": [
        {
          "output_type": "stream",
          "name": "stdout",
          "text": [
            "   \n",
            "  *\n",
            " ***\n",
            "*****\n",
            " ***\n",
            "  *\n"
          ]
        }
      ]
    },
    {
      "cell_type": "markdown",
      "source": [
        "![0000000000003726.png](data:image/png;base64,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)"
      ],
      "metadata": {
        "id": "b51f3wLND-pH"
      }
    },
    {
      "cell_type": "markdown",
      "source": [
        "# Exercise 3 🙆"
      ],
      "metadata": {
        "id": "bFuia_jKyFrL"
      }
    },
    {
      "cell_type": "code",
      "source": [
        "# Make a program to make a Calculator using function Operations [ + , - , * , / , % , log ]\n",
        "import math\n",
        "class Calculator:\n",
        "  def sum(a,b):\n",
        "    c=a+b\n",
        "    print(c)\n",
        "  def minus(a,b):\n",
        "    c=a-b\n",
        "    print(c)\n",
        "  def multi(a,b):\n",
        "    c=a*b\n",
        "    print(c)\n",
        "  def devide(a,b):\n",
        "    c=a/b\n",
        "    print(c)\n",
        "  def modelo(a,b):\n",
        "    c=a%b\n",
        "    print(c)\n",
        "  def log(a):\n",
        "    c=math.log(a)\n",
        "    print(c)\n",
        "\n",
        "c=Calculator \n",
        "while True:\n",
        "  anyFunc=int(input(\"Enter any Expression to calculate the values\" \n",
        "                  \"[1- '+' ,2- '-' , 3-'*' ,4-' /' , 5-'%' , 6-'log',7-'exit'] \"))\n",
        "  if anyFunc==1:\n",
        "    a=int(input(\"A : \"))\n",
        "    b=int(input(\"B : \"))\n",
        "    c.sum(a,b)\n",
        "  if anyFunc==2:\n",
        "    a=int(input(\"A : \"))\n",
        "    b=int(input(\"B : \"))\n",
        "    c.minus(a,b)\n",
        "  if anyFunc==3:\n",
        "    a=int(input(\"A : \"))\n",
        "    b=int(input(\"B : \"))\n",
        "    c.multi(a,b)\n",
        "  if anyFunc==4:\n",
        "    a=int(input(\"A : \"))\n",
        "    b=int(input(\"B : \"))\n",
        "    c.devide(a,b)\n",
        "  if anyFunc==5:\n",
        "    a=int(input(\"A : \"))\n",
        "    b=int(input(\"B : \"))\n",
        "    c.modulo(a,b)\n",
        "  if anyFunc==67:\n",
        "    a=int(input(\"A : \"))\n",
        "    c.modulo(a)\n",
        "  if anyFunc==7:\n",
        "    break "
      ],
      "metadata": {
        "id": "Sndz5TA7yYdl"
      },
      "execution_count": null,
      "outputs": []
    },
    {
      "cell_type": "code",
      "source": [
        "# Make a program to make a relu activation function using lambda function\n",
        "x= lambda a: a if a>0 else 0\n",
        "print(x(10))\n",
        "print(x(0))\n",
        "print(x(-10))\n",
        "print(x(-1))"
      ],
      "metadata": {
        "id": "cdLcX-9z0EFi",
        "colab": {
          "base_uri": "https://localhost:8080/"
        },
        "outputId": "714c9c01-9c57-4171-8e53-cad7257c860e"
      },
      "execution_count": null,
      "outputs": [
        {
          "output_type": "stream",
          "name": "stdout",
          "text": [
            "10\n",
            "0\n",
            "0\n",
            "0\n"
          ]
        }
      ]
    },
    {
      "cell_type": "code",
      "source": [
        "# Create a class which store student infomation like [ Name, Class, Degree, ( Marks of multiple subjects) ] \n",
        "# A global variable to store minimum passing marks \n",
        "# A function to calculate Percentage \n",
        "min_mark=35\n",
        "class Student:\n",
        "    def __init__(self,name,classs,degree,marks1,marks2):\n",
        "        self.name= name\n",
        "        self.classs=classs\n",
        "        self.degree= degree\n",
        "        self.marks1=marks1\n",
        "        self.marks2=marks2\n",
        "    \n",
        "    def cal_perce(self):\n",
        "        p=(self.marks1+self.marks2)/2\n",
        "        if p>min_mark:\n",
        "            print('Pass and got ',p,' marks')\n",
        "        else:\n",
        "            print('Fail cz get',p,' marks')\n",
        "s= Student('kp',4,'msc',23,43)\n",
        "s.cal_perce()"
      ],
      "metadata": {
        "id": "cYDdtaPZHXq5",
        "colab": {
          "base_uri": "https://localhost:8080/"
        },
        "outputId": "eec332de-6875-47e5-e37b-283145c2c57c"
      },
      "execution_count": null,
      "outputs": [
        {
          "output_type": "stream",
          "name": "stdout",
          "text": [
            "Fail cz get 33.0  marks\n"
          ]
        }
      ]
    },
    {
      "cell_type": "code",
      "source": [
        "# Create a class which stores list of numbers \n",
        "# Mutliple functions to calculate Mean, Median, Mode and Standard Diviation of given list \n",
        "import statistics\n",
        "\n",
        "\n",
        "def mean(listt):\n",
        "    print(sum(listt)/len(listt))\n",
        "\n",
        "def mediann(listt):\n",
        "    return statistics.median(listt) \n",
        "\n",
        "def modee(listt):\n",
        "    return statistics.mode(listt)\n",
        "\n",
        "def stddev(listt):\n",
        "    return statistics.stdev(listt)\n",
        "\n",
        "stddev(listt)\n",
        "mean(listt)\n",
        "modee(listt)\n",
        "mediann(listt)"
      ],
      "metadata": {
        "id": "6Axa09v10Eh6"
      },
      "execution_count": null,
      "outputs": []
    },
    {
      "cell_type": "code",
      "source": [
        "# Create a class which store all the infomation of city like [ Name, State, Country, Currency, TimeZone ] and Internal Function to print it\n",
        "\n",
        "class City:\n",
        "  \n",
        "  def __init__(self,name,state,country,currency,timezone):\n",
        "    self.name=name\n",
        "    self.state=state\n",
        "    self.country=country\n",
        "    self.currency=currency\n",
        "    self.timezone=timezone\n",
        "        \n",
        "  def showdata(self):\n",
        "        print(self.name,\n",
        "        self.state,\n",
        "        self.country,\n",
        "        self.currency,\n",
        "        self.timezone)\n",
        "        \n",
        "c=City('keyur','gujarat','india','rupees','ist')\n",
        "c.showdata()"
      ],
      "metadata": {
        "id": "XgT29HiS0ETM",
        "colab": {
          "base_uri": "https://localhost:8080/"
        },
        "outputId": "3c79ff1a-1f82-4282-8c69-41c0dd6b4c56"
      },
      "execution_count": null,
      "outputs": [
        {
          "output_type": "stream",
          "name": "stdout",
          "text": [
            "keyur gujarat india rupees ist\n"
          ]
        }
      ]
    },
    {
      "cell_type": "code",
      "source": [],
      "metadata": {
        "id": "PdA3PyykCvL0"
      },
      "execution_count": null,
      "outputs": []
    }
  ]
}