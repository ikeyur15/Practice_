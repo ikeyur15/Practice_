{
  "nbformat": 4,
  "nbformat_minor": 0,
  "metadata": {
    "colab": {
      "provenance": [],
      "collapsed_sections": [],
      "include_colab_link": true
    },
    "kernelspec": {
      "name": "python3",
      "display_name": "Python 3"
    },
    "language_info": {
      "name": "python"
    }
  },
  "cells": [
    {
      "cell_type": "markdown",
      "metadata": {
        "id": "view-in-github",
        "colab_type": "text"
      },
      "source": [
        "<a href=\"https://colab.research.google.com/github/ikeyur15/Practice_/blob/main/Basics_of_EDA_003.ipynb\" target=\"_parent\"><img src=\"https://colab.research.google.com/assets/colab-badge.svg\" alt=\"Open In Colab\"/></a>"
      ]
    },
    {
      "cell_type": "markdown",
      "source": [
        "# **Exploratory Data Analysis** - exercise submission notebook\n",
        "\n",
        "## Submission 2 **Basics of EDA**"
      ],
      "metadata": {
        "id": "B6yf3Zfv9sPf"
      }
    },
    {
      "cell_type": "markdown",
      "source": [
        "# **Instructions** \n",
        "This is a submission notebook, your term evaluation is based on the submission of the notebook.\n",
        "\n",
        "* Don't Copy others code\n",
        "* Try to implement all the topic that we have covered in the lectures \n",
        "* You can refer to the documentation if using any library\n",
        "* **Use proper commenting to explain your code**\n",
        "\n",
        "Happy Coding!"
      ],
      "metadata": {
        "id": "Ldii7DRy8MDs"
      }
    },
    {
      "cell_type": "markdown",
      "source": [
        "# **Exercise 1** 🖐"
      ],
      "metadata": {
        "id": "Gvxf8Mij0K_f"
      }
    },
    {
      "cell_type": "markdown",
      "source": [
        "## **Job Location**\n",
        "\n",
        "**Problem Statement :**\n",
        "\n",
        "Find number of job openings in Bangalore,IN and in Seattle,US?\n",
        "\n",
        "Print the Number of Job opening in Bangalore and Seattle as Integer value.\n",
        "\n",
        "```\n",
        "Output:\n",
        "\n",
        "CountBangalore CountSeattle\n",
        "```"
      ],
      "metadata": {
        "id": "8iTlIa4ZkzWi"
      }
    },
    {
      "cell_type": "code",
      "source": [
        "import csv \n",
        "import requests\n",
        "import pandas as pd"
      ],
      "metadata": {
        "id": "EN4TLrYRnQlG"
      },
      "execution_count": null,
      "outputs": []
    },
    {
      "cell_type": "code",
      "source": [
        "!wget \"https://raw.githubusercontent.com/Ambatkar/Test_mnist/main/data/Amazon_jobs_dataset%20-%20amazon_jobs_dataset.csv\""
      ],
      "metadata": {
        "colab": {
          "base_uri": "https://localhost:8080/"
        },
        "id": "-mPVR2Gan_kT",
        "outputId": "56c2f9ee-7d70-4ad9-be23-d4c4d9bce514"
      },
      "execution_count": null,
      "outputs": [
        {
          "output_type": "stream",
          "name": "stdout",
          "text": [
            "--2022-09-01 02:46:18--  https://raw.githubusercontent.com/Ambatkar/Test_mnist/main/data/Amazon_jobs_dataset%20-%20amazon_jobs_dataset.csv\n",
            "Resolving raw.githubusercontent.com (raw.githubusercontent.com)... 185.199.108.133, 185.199.109.133, 185.199.111.133, ...\n",
            "Connecting to raw.githubusercontent.com (raw.githubusercontent.com)|185.199.108.133|:443... connected.\n",
            "HTTP request sent, awaiting response... 200 OK\n",
            "Length: 10493282 (10M) [text/plain]\n",
            "Saving to: ‘Amazon_jobs_dataset - amazon_jobs_dataset.csv’\n",
            "\n",
            "Amazon_jobs_dataset 100%[===================>]  10.01M  --.-KB/s    in 0.1s    \n",
            "\n",
            "2022-09-01 02:46:18 (104 MB/s) - ‘Amazon_jobs_dataset - amazon_jobs_dataset.csv’ saved [10493282/10493282]\n",
            "\n"
          ]
        }
      ]
    },
    {
      "cell_type": "code",
      "source": [
        "filename ='/content/Amazon_jobs_dataset - amazon_jobs_dataset.csv'"
      ],
      "metadata": {
        "id": "zwh6h1iDoHAS"
      },
      "execution_count": null,
      "outputs": []
    },
    {
      "cell_type": "code",
      "source": [
        "with open(filename,encoding=\"utf8\") as f:\n",
        "    data=csv.DictReader(f, skipinitialspace = True)\n",
        "    data = list(data)"
      ],
      "metadata": {
        "id": "RLZmKckvoSs5"
      },
      "execution_count": null,
      "outputs": []
    },
    {
      "cell_type": "code",
      "source": [
        "# ANSWER HERE\n",
        "banglore_count = 0\n",
        "seattle_count=0\n",
        "for i in data:\n",
        "    if i['location']==\"\":\n",
        "        i['location']=='none'\n",
        "    else:\n",
        "        city = i['location'].split()[-1]\n",
        "        if city =='Bangalore':\n",
        "            banglore_count=banglore_count+1\n",
        "        if city == 'Seattle':\n",
        "            seattle_count=seattle_count+1\n",
        "\n",
        "print('banglore_count : ',banglore_count)\n",
        "print('seattle_count : ',seattle_count)"
      ],
      "metadata": {
        "id": "BOFHgIFMkyXr",
        "colab": {
          "base_uri": "https://localhost:8080/"
        },
        "outputId": "bad372f0-69a9-4d65-bc3f-6f43cdced201"
      },
      "execution_count": null,
      "outputs": [
        {
          "output_type": "stream",
          "name": "stdout",
          "text": [
            "banglore_count :  66\n",
            "seattle_count :  1856\n"
          ]
        }
      ]
    },
    {
      "cell_type": "markdown",
      "source": [
        "## **Job Computer Vision**\n",
        "\n",
        "\n",
        "**Problem Statement :**\n",
        "\n",
        "What are the total number of job openings related to Computer Vision ?\n",
        "\n",
        "Note:For finding the job related to computer vision check the Job Title column.\n",
        "\n",
        "```\n",
        "Output Format\n",
        "\n",
        "Count\n",
        "\n",
        "```"
      ],
      "metadata": {
        "id": "rL4192EDlVj2"
      }
    },
    {
      "cell_type": "code",
      "source": [
        "# ANSWER HERE\n",
        "cv= 0\n",
        "text = 'Computer Vision'\n",
        "for i in data:\n",
        "    if i['Title']=='':\n",
        "        i['Title']=='none'\n",
        "    if i['Title'].count(text):\n",
        "        cv= cv+1\n",
        "\n",
        "print(\"Total jobs related to Computer Vision is\",cv)\n",
        "    "
      ],
      "metadata": {
        "id": "wffpCYaklW_5",
        "colab": {
          "base_uri": "https://localhost:8080/"
        },
        "outputId": "3a40bcb1-e1fa-4a33-e6a7-8198916cb3fa"
      },
      "execution_count": null,
      "outputs": [
        {
          "output_type": "stream",
          "name": "stdout",
          "text": [
            "Total jobs related to Computer Vision is 14\n"
          ]
        }
      ]
    },
    {
      "cell_type": "markdown",
      "source": [
        "## **Job Canada**\n",
        "\n",
        "It is a dataset including information on amazon job opening around the world from June 2011 to March 2018. This dataset is collected using Selenium and BeautifulSoup by scraping all of the jobs for Amazon job site.\n",
        "Problem Statement :\n",
        "\n",
        "Find the number of job openings in Canada?\n",
        "\n",
        "Print the count as the Integer Value\n",
        "\n",
        "```\n",
        "Output:\n",
        "\n",
        "Count\n",
        "```"
      ],
      "metadata": {
        "id": "9p3CCnzOmIE4"
      }
    },
    {
      "cell_type": "code",
      "source": [
        "# ANSWER HERE\n",
        "canada_job_count=0\n",
        "for i in data:\n",
        "    if i['location'] ==\"\":\n",
        "        i['location']=='none'\n",
        "    k=i['location'].split(',')[0]\n",
        "    if k=='CA':\n",
        "        canada_job_count=canada_job_count+1\n",
        "\n",
        "print(canada_job_count)"
      ],
      "metadata": {
        "id": "uwG0JazSl5tW",
        "colab": {
          "base_uri": "https://localhost:8080/"
        },
        "outputId": "f94ca34e-6203-46c7-c897-d2292f30415d"
      },
      "execution_count": null,
      "outputs": [
        {
          "output_type": "stream",
          "name": "stdout",
          "text": [
            "156\n"
          ]
        }
      ]
    },
    {
      "cell_type": "markdown",
      "source": [
        "## **Job Month 2018**\n",
        "\n",
        "Problem Statement :\n",
        "\n",
        "Find the month having most job openings in Year 2018 ?\n",
        "Print the month (Month Name i.e January, February, March) and Number of job opening as Integer Value\n",
        "\n",
        "```\n",
        "Output Format :\n",
        "\n",
        "MonthName Count\n",
        "\n",
        "```"
      ],
      "metadata": {
        "id": "WWpve-n0mntI"
      }
    },
    {
      "cell_type": "code",
      "source": [
        "# ANSWER HERE\n",
        "x,y,z = 0,0,0\n",
        "for i in data:\n",
        "    k= i['Posting_date'].split()[-3]\n",
        "    p= i['Posting_date'].split()[-1]\n",
        "    if p=='2018':\n",
        "        if k=='January':\n",
        "            x=x+1\n",
        "        if k=='February':\n",
        "            y=y+1\n",
        "        if k=='March':\n",
        "            z=z+1\n",
        "            \n",
        "print('January : ',x,'\\nFebruary : ',y,'\\nMarch : ',z)\n",
        "            "
      ],
      "metadata": {
        "id": "u_Unmle1mvJl",
        "colab": {
          "base_uri": "https://localhost:8080/"
        },
        "outputId": "cfe41c91-8c69-4bfa-a349-e524aab51bb1"
      },
      "execution_count": null,
      "outputs": [
        {
          "output_type": "stream",
          "name": "stdout",
          "text": [
            "January :  907 \n",
            "February :  790 \n",
            "March :  13\n"
          ]
        }
      ]
    },
    {
      "cell_type": "markdown",
      "source": [
        "## **Job Degree**\n",
        "\n",
        "Problem Statement :\n",
        "Find the number of job openings are present if applicant have Bachelor degree?\n",
        "Print the count as Integer value\n",
        "\n",
        "**Note : Here we will use the BASIC QUALIFICATIONS feature to find out whether bachelor degree for Job is required or not. Keywords that can be used are 'Bachelor', 'BS' and 'BA'.**\n",
        "\n",
        "```\n",
        "Output:\n",
        "\n",
        "Count\n",
        "```"
      ],
      "metadata": {
        "id": "3IqYOv3um5mb"
      }
    },
    {
      "cell_type": "code",
      "source": [
        "# ANSWER HERE\n",
        "d={}\n",
        "kword=['Bachelor', 'BS', 'BA']\n",
        "max=0\n",
        "l=set()\n",
        "\n",
        "for j in range(len(data)):\n",
        "  da=data[j]['BASIC QUALIFICATIONS']\n",
        "  for k in kword:\n",
        "    if k in da:\n",
        "      l.add(j)\n",
        "      \n",
        "print(len(l))"
      ],
      "metadata": {
        "id": "3xbkWbsVnBRO",
        "colab": {
          "base_uri": "https://localhost:8080/"
        },
        "outputId": "0a5da354-4271-422a-9147-a079f73ed51f"
      },
      "execution_count": null,
      "outputs": [
        {
          "output_type": "stream",
          "name": "stdout",
          "text": [
            "2961\n"
          ]
        }
      ]
    },
    {
      "cell_type": "markdown",
      "source": [
        "## **Job Java**\n",
        "**Problem Statement :**\n",
        "\n",
        "Find the country does Amazon need the most number of Java Developer?\n",
        "Print the Country(Country Shortcut as given in Dataset) and number of job opening as integer value\n",
        "\n",
        "```\n",
        "Country NumberofJobs\n",
        "\n",
        "For example : US 40\n",
        "```"
      ],
      "metadata": {
        "id": "M8heMBIQncTg"
      }
    },
    {
      "cell_type": "code",
      "source": [
        "#find unique value of country\n",
        "list1=[]\n",
        "for j in range(len(data)): #range(3493)\n",
        "  city = data[j]['location'].split(',')[0]\n",
        "  if city not in list1:\n",
        "    list1.append(city)\n",
        "print(list1)\n",
        "kword=['Java','java']\n",
        "\n",
        "for i in list1:\n",
        "  count=0\n",
        "  for j in range(len(data)):\n",
        "    city = data[j]['location'].split(',')[0] #split value of location and give 0 index value\n",
        "    if city==i:\n",
        "     for k in kword:\n",
        "        da=data[j]['DESCRIPTION']\n",
        "        if k in da:\n",
        "            count+=1\n",
        "  print(i,count)\n",
        "  "
      ],
      "metadata": {
        "id": "SQrezQpPngN-",
        "colab": {
          "base_uri": "https://localhost:8080/"
        },
        "outputId": "48d701a3-91e7-4086-c4d1-3a5457e2d96f"
      },
      "execution_count": null,
      "outputs": [
        {
          "output_type": "stream",
          "name": "stdout",
          "text": [
            "['US', 'IN', 'RO', 'CA', 'DE', 'PL', 'AE', 'ES', 'IT', 'IL', 'UK', 'ZA', 'SG', 'AU', 'IE', 'FR', 'BR', 'CN', 'MX', 'NL', 'JO', 'TW', 'LU', 'JP', '']\n",
            "US 406\n",
            "IN 17\n",
            "RO 1\n",
            "CA 27\n",
            "DE 1\n",
            "PL 0\n",
            "AE 0\n",
            "ES 0\n",
            "IT 0\n",
            "IL 0\n",
            "UK 1\n",
            "ZA 5\n",
            "SG 0\n",
            "AU 1\n",
            "IE 8\n",
            "FR 0\n",
            "BR 0\n",
            "CN 0\n",
            "MX 0\n",
            "NL 1\n",
            "JO 0\n",
            "TW 0\n",
            "LU 0\n",
            "JP 1\n",
            " 0\n"
          ]
        }
      ]
    },
    {
      "cell_type": "markdown",
      "source": [
        "# **Exercise 2** 🖐"
      ],
      "metadata": {
        "id": "P93gLmoX0ShC"
      }
    },
    {
      "cell_type": "code",
      "source": [
        "from google.colab import drive\n",
        "drive.mount('/content/drive')"
      ],
      "metadata": {
        "colab": {
          "base_uri": "https://localhost:8080/"
        },
        "id": "T_1n7XT-tcV7",
        "outputId": "80e21764-6705-4790-d7f8-8eba28bd6d53"
      },
      "execution_count": null,
      "outputs": [
        {
          "output_type": "stream",
          "name": "stdout",
          "text": [
            "Mounted at /content/drive\n"
          ]
        }
      ]
    },
    {
      "cell_type": "code",
      "source": [
        "filePath = \"/content/drive/MyDrive/terrorismData.csv\""
      ],
      "metadata": {
        "id": "T6GSEHQWpXsG"
      },
      "execution_count": null,
      "outputs": []
    },
    {
      "cell_type": "markdown",
      "source": [
        "## **Problem Statement : 1**\n",
        "\n",
        "Find the number of attack held between day 10 and day 20?(ignoring the year and month)(including both day)\n",
        "\n",
        "Print count of NumberOFAttack as integer value. \n",
        "\n",
        "> Output Format :\n",
        "```\n",
        "Count\n",
        "```"
      ],
      "metadata": {
        "id": "9PoIbGPZiOkP"
      }
    },
    {
      "cell_type": "code",
      "source": [
        "## Your Code\n",
        "import csv\n",
        "import numpy as np\n",
        "\n",
        "with open(filePath,encoding='utf-8') as f:\n",
        "    data = csv.DictReader(f)\n",
        "    days = []\n",
        "    for i in data:\n",
        "        days.append(int(i['Day']))\n",
        "\n",
        "\n",
        "np_days = np.array(days)\n",
        "\n",
        "n = (np_days >= 10) & (np_days<=20)\n",
        "print(sum(n))"
      ],
      "metadata": {
        "id": "mHsnSQ3UkX7p"
      },
      "execution_count": null,
      "outputs": []
    },
    {
      "cell_type": "markdown",
      "source": [
        "## **Problem Statement : 2**\n",
        "\n",
        "Find the number of attack held between 1 Jan 2010 and 31 Jan 2010?(including both date).\n",
        "\n",
        "Note Ignore the case where day is 0\n",
        "\n",
        "Print count of NumberOFAttack as integer value.\n",
        "\n",
        "> Output Format :\n",
        "```\n",
        "Count\n",
        "```"
      ],
      "metadata": {
        "id": "aBQqeXzhi_nZ"
      }
    },
    {
      "cell_type": "code",
      "execution_count": null,
      "metadata": {
        "id": "mX4YjOQHeGKT"
      },
      "outputs": [],
      "source": [
        "## Your Code\n",
        "## First way \n",
        "# df.head(5)\n",
        "with open(filepath,encoding='utf-8')as f:\n",
        "    data = csv.DictReader(f)\n",
        "    Month=[]\n",
        "    for i in data:\n",
        "        if i['Year']=='2010':\n",
        "            if i['Month']=='1':\n",
        "                if i['Day']>'0':\n",
        "                    Month.append(i)\n",
        "print(len(Month))"
      ]
    },
    {
      "cell_type": "markdown",
      "source": [
        "## **Problem Statement : 3**\n",
        "\n",
        "Find the casualty in the Red Corridor States ? Mainly Red corridor states include Jharkhand, Odisha, Andhra Pradesh, and Chhattisgarh.\n",
        "\n",
        "Note: Casualty=Killed +Wounded\n",
        "\n",
        "Print count of Casualty as integer value.\n",
        "\n",
        "> Output Format :\n",
        "```\n",
        "Count\n",
        "```"
      ],
      "metadata": {
        "id": "E32Mx7YkjeQq"
      }
    },
    {
      "cell_type": "code",
      "source": [
        "## Your Code\n",
        "listt= ['Jharkhand','Odisha','Andhra Pradesh','Chhattisgarh']\n",
        "k=[]\n",
        "with open(filepath,encoding='utf-8')as f:\n",
        "    data = csv.DictReader(f)\n",
        "    for i in data:\n",
        "        if i['State'] in listt:\n",
        "            if i['Killed']==\"\":\n",
        "                i['Killed']=0\n",
        "            if float(i['Killed'])>0.0:\n",
        "                k.append(i['Killed'])\n",
        "            if i['Wounded']==\"\":\n",
        "                i['Wounded']=0\n",
        "            if float(i['Wounded'])>0.0:\n",
        "                k.append(i['Wounded'])\n",
        "a=([int(float(x)) for x in k])\n",
        "print(sum(a))\n",
        "# ANS - 5628"
      ],
      "metadata": {
        "id": "oTJH7EM9j-y_"
      },
      "execution_count": null,
      "outputs": []
    },
    {
      "cell_type": "markdown",
      "source": [
        "## **Problem Statement : 4**\n",
        "\n",
        "Find the most frequent day of attack in a terrorismDataset ?\n",
        "Note: Here np.unique can be used.\n",
        "\n",
        "Print count of frequent day and number of attack as Integer value.\n",
        "\n",
        "> Output Format :\n",
        "```\n",
        "Day NumberOFAttack\n",
        "```"
      ],
      "metadata": {
        "id": "ld8I6UgGjzVg"
      }
    },
    {
      "cell_type": "code",
      "source": [
        "import pandas as pd\n",
        "df=pd.read_csv(filePath)\n",
        "df.head()\n",
        "\n",
        "unique,count=np.unique(df.Day,return_counts=True)\n",
        "\n",
        "print(np.asarray((unique,count)).T)\n",
        "\n",
        "dict(list(enumerate(count)))\n",
        "## Your Code\n",
        "g={}\n",
        "counts=count.tolist()\n",
        "for i in range(32):\n",
        "   g[i]=counts[i]\n",
        "#print(g)\n",
        "max(zip(counts,unique))\n"
      ],
      "metadata": {
        "id": "-xDrZljPjYxs"
      },
      "execution_count": null,
      "outputs": []
    }
  ]
}